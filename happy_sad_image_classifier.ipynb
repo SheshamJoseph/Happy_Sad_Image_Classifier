{
  "nbformat": 4,
  "nbformat_minor": 0,
  "metadata": {
    "colab": {
      "provenance": [],
      "authorship_tag": "ABX9TyMw818/peVdnPredOCdICx2",
      "include_colab_link": true
    },
    "kernelspec": {
      "name": "python3",
      "display_name": "Python 3"
    },
    "language_info": {
      "name": "python"
    }
  },
  "cells": [
    {
      "cell_type": "markdown",
      "metadata": {
        "id": "view-in-github",
        "colab_type": "text"
      },
      "source": [
        "<a href=\"https://colab.research.google.com/github/SheshamJoseph/Happy_Sad_Image_Classifier/blob/main/happy_sad_image_classifier.ipynb\" target=\"_parent\"><img src=\"https://colab.research.google.com/assets/colab-badge.svg\" alt=\"Open In Colab\"/></a>"
      ]
    },
    {
      "cell_type": "markdown",
      "source": [
        "# Happy or Sad Image classifier"
      ],
      "metadata": {
        "id": "dJ1qUlS9qYfC"
      }
    },
    {
      "cell_type": "markdown",
      "source": [
        "## Getting the data"
      ],
      "metadata": {
        "id": "G-CBc0b3qhbb"
      }
    },
    {
      "cell_type": "code",
      "execution_count": 1,
      "metadata": {
        "id": "x-Td13XMODZ_"
      },
      "outputs": [],
      "source": [
        "import tensorflow as tf\n",
        "import cv2\n",
        "import imghdr\n",
        "import os"
      ]
    },
    {
      "cell_type": "code",
      "source": [
        "!mkdir data"
      ],
      "metadata": {
        "id": "hKaxoUIMP079"
      },
      "execution_count": 2,
      "outputs": []
    },
    {
      "cell_type": "code",
      "source": [
        "from zipfile import ZipFile\n",
        "happy_dir = 'data/happy.zip'\n",
        "sad_dir = 'data/sad.zip'\n",
        "zips = [happy_dir, sad_dir]\n",
        "for zip in zips:\n",
        "    with ZipFile(zip, 'r') as zipObj:\n",
        "        zipObj.extractall('data')\n"
      ],
      "metadata": {
        "id": "efhsmqAHjpVx"
      },
      "execution_count": 3,
      "outputs": []
    },
    {
      "cell_type": "code",
      "source": [
        "!rm data/happy.zip\n",
        "!rm data/sad.zip"
      ],
      "metadata": {
        "id": "Kv8K3vaspVAy"
      },
      "execution_count": 9,
      "outputs": []
    },
    {
      "cell_type": "code",
      "source": [
        "data_dir = 'data'\n",
        "os.listdir(os.path.join(data_dir, 'happy'))"
      ],
      "metadata": {
        "colab": {
          "base_uri": "https://localhost:8080/"
        },
        "id": "F8N_dNWwm8TF",
        "outputId": "0a9d0586-e539-4357-d531-84fa6422c6bd"
      },
      "execution_count": 6,
      "outputs": [
        {
          "output_type": "execute_result",
          "data": {
            "text/plain": [
              "['Happiestpersonintheworld21.jpg',\n",
              " 'gdfVVm_MyCRtqpvdkt8vtSB1n_oz_CpwCq6vNMpj0S8.jpg',\n",
              " 'nm-how-happiness-affects-health-tnail.jpg',\n",
              " 'aecd7b04-bb40-42ad-9985-d63a3198a878.jpg',\n",
              " 'very-happy-people.jpg',\n",
              " 'happy-people-group-fb.jpg',\n",
              " 'Travis-Bradberry-Happy.jpg',\n",
              " 'happy-people2.jpg',\n",
              " 'Successful-year.jpg',\n",
              " 'image9.jpeg',\n",
              " 'kiKoxodyT.jpg',\n",
              " 'cropped-fotolia_66770084_subscription_monthly_xxl.jpg',\n",
              " 'happy_1_1678616873966_1678616915228_1678616915228.jpg',\n",
              " 'traitshappypeople.jpg',\n",
              " 'group-happy-people-party-isolated-white-background-31666248.jpg',\n",
              " 'multiracial-friends-group-having-fun-260nw-2447663665.jpg',\n",
              " 'Happy-people-800x533.jpg',\n",
              " 'image19.jpeg',\n",
              " 'sperson-smile-happiness-gesture-business-people-child-company-hand-thumbnail.png',\n",
              " '170404-happy-workers-feature.jpg',\n",
              " '7-principles-of-successful-and-happy-people.png',\n",
              " 'image24.jpeg',\n",
              " 'Happiness-Habits-10-Things-Happy-People-Do-Before-Bed-800x450.jpg',\n",
              " 'hand-drawn-happy-people-jumping_23-2149092878.jpg',\n",
              " 'image27.jpeg',\n",
              " '35438_hd.jpg',\n",
              " 'community-young-people-happy-together_23-2148431416.jpg',\n",
              " 'happy-people-jump-with-raised-arms-characters-win_107791-14884.jpg',\n",
              " '6-things-happy-people-do.jpg',\n",
              " 'happy-people-13772392.jpg',\n",
              " '960x0.jpg',\n",
              " 'lindstrom-happiness-around-world.jpg',\n",
              " 'happy-people-illustration-modern-style-graphic-art-vector.jpg',\n",
              " '1920px-face-smile.svg_.png',\n",
              " 'Happy-Guy.jpg',\n",
              " '-woman-looking-at-camera-with-crossed-arms-happy-girl-standing-in-1865153395.jpg',\n",
              " 'Super-Happy-People-yay.jpg',\n",
              " 'file-20230208-27-3jttof.jpg',\n",
              " 'image13.jpeg',\n",
              " '220px-Shiny_Happy_People_Duggar_Family_Secrets_poster.jpg',\n",
              " '56f455011e0000b300705475.jpeg',\n",
              " '360_F_484873483_hg1ofIdXbMha5lKEDG3hJBrwKh1oikTq.jpg',\n",
              " 'GettyImages-871518740.jpg',\n",
              " 'image33.jpeg',\n",
              " 'friends-sharing-joy-and-laughter-946289.jpg',\n",
              " '360_F_709672486_C7eaa5uLXe7qjYwuX0BvPeaUSemlVzpZ.jpg',\n",
              " 'smiling-woman_W6GFOSFAXA.jpg',\n",
              " 'smiling-young-african-american-woman-260nw-2290057229.jpg',\n",
              " 'rating-victory-isolated-white-background-concept-friendship-healthy-91211177.jpg',\n",
              " 'friends_190412.jpg',\n",
              " 'pngtree-team-of-happy-people-png-image_7800848.png',\n",
              " '25115.jpg',\n",
              " '05-12-21-happy-people.jpg',\n",
              " 'happy-family-happy-people.jpg',\n",
              " 'getty_143919450_9706479704500104_51510.jpg',\n",
              " '360_F_313450534_bHkt5SoetREYpgWO5uOpceVnaDCngOX7.jpg',\n",
              " 'happy-people21.jpg',\n",
              " 'image34.jpeg',\n",
              " 'goup-happy-people-group-jumping-isolated-white-background-35582232.jpg',\n",
              " 'image_jumpstory-download20230421-155938_7a7b427.jpg',\n",
              " 'getty_152414899_97046097045006_68075.jpg',\n",
              " 'getty_478389113_970647970450091_99776.jpg',\n",
              " '4239f3d51d092f69d529f372a37b4601.jpg',\n",
              " 'happypeople-1024x679.jpg',\n",
              " 'depositphotos_391577690-stock-photo-cheerful-woman-outstretched-hands-sitting.jpg',\n",
              " '7-Habits-of-Happy-People.png',\n",
              " 'Happy20People.jpg',\n",
              " 'habits-of-happy-people-jpg.jpg',\n",
              " 'HABITS-OF-HEALTHY-PEOPLE.jpg',\n",
              " 'maxresdefault.jpg',\n",
              " 'image31.jpeg',\n",
              " 'MV5BMTM3ODM0NTQ1MF5BMl5BanBnXkFtZTcwMzAxMTM5OA._V1_.jpg',\n",
              " 'happy-Cover-img.png',\n",
              " 'guilherme-stecanella-375176-unsplash.jpg',\n",
              " 'A_Sep20_14_1189155141.jpg',\n",
              " 'Copy-of-Rustic-Female-Teen-Magazine-Cover.jpg',\n",
              " 'image3.jpeg',\n",
              " 'Happy-People-2.jpeg',\n",
              " 'business-people-succesful-celebrating-group-successful-39416686-800x500.jpg',\n",
              " 'Screen-Shot-2012-10-23-at-12.57.22-PM.png',\n",
              " 'bigstock-Senior-citizens-on-holiday-22143350.jpg',\n",
              " 'image16.jpeg',\n",
              " 'image25.jpeg',\n",
              " 'image30.jpeg',\n",
              " 'png-transparent-happiness-love-happy-people-love-child-hand-thumbnail.png',\n",
              " 'image15.jpeg',\n",
              " 'image32.jpeg',\n",
              " 'getty_505175324_2000131020009280246_158016.jpg',\n",
              " 'happy-people.jpg',\n",
              " 'image28.jpeg',\n",
              " 'image18.jpeg',\n",
              " 'image35.jpeg',\n",
              " 'image29.jpeg',\n",
              " 'image23.jpeg',\n",
              " 'group-young-happy-people-with-their-hands-up_369728-62.jpg',\n",
              " '360_F_165246984_Ihe5LVattiq8zEPivcPqrtM85x7noWJw.jpg',\n",
              " '_470x410_0045_11-habits-of-truly-happy-people.jpg',\n",
              " 'bigstock-Portrait-Of-Smiling-Employees-272904928-min-scaled.jpg',\n",
              " 'image8.jpeg',\n",
              " 'happiness-happens-tips-increase-your-happiness.png',\n",
              " 'image14.jpeg',\n",
              " 'image26.jpeg',\n",
              " 'friends-happy-190821.jpg',\n",
              " '8fc39ae2301e4355a91340731ed2198f_320_320.jpeg',\n",
              " 'sunset-570881_1280.jpg']"
            ]
          },
          "metadata": {},
          "execution_count": 6
        }
      ]
    },
    {
      "cell_type": "code",
      "source": [
        "img_extensions = ['jpg', 'jpeg', 'png', 'bmp']\n",
        "for image_class in os.listdir(os.path.join(data_dir)):\n",
        "    for image in os.listdir(os.path.join(data_dir, image_class)):\n",
        "        image_path = os.path.join(data_dir, image_class, image)\n",
        "        try:\n",
        "            img = cv2.imread(image_path)\n",
        "            ext = imghdr.what(image_path)\n",
        "            if ext not in img_extensions:\n",
        "                print(f'{image_path} extension not in extension list')\n",
        "                os.remove(image_path)\n",
        "        except Exception as e:\n",
        "            print(f'Issue with image {image_path}')\n",
        "            # os.remove(image_path)"
      ],
      "metadata": {
        "colab": {
          "base_uri": "https://localhost:8080/"
        },
        "id": "393u3-vPnbRG",
        "outputId": "401803a6-0544-4bb7-b6b6-30caab4dfb1d"
      },
      "execution_count": 10,
      "outputs": [
        {
          "output_type": "stream",
          "name": "stdout",
          "text": [
            "data/sad/sad-person-pictures-1920-x-1270-5jatnx06kaizb3sc.jpg not an image\n",
            "data/sad/close-sad-pensive-millennial-woman-260nw-2458168367.jpg not an image\n",
            "data/sad/portrait-sad-man-600nw-126009806.jpg not an image\n",
            "data/sad/2ef1f06810af48f9a1219d098156eee9.webp not an image\n",
            "data/sad/depositphotos_217564870-stock-photo-young-attractive-sad-black-african.jpg not an image\n",
            "data/sad/spair-mental-person-sitting-in-dark-looking-dejected6629a96618e746.05218806.webp not an image\n",
            "data/sad/sad-person-pictures-2bnso9uiwlhrikrx.jpg not an image\n",
            "data/sad/1cd95b44e0d785987a6596d4baf940fc19-13-sad-white-man.2x.h473.w710.jpg not an image\n",
            "data/sad/sad-person-pictures-1920-x-1200-qq00l14kkjed5hew.jpg not an image\n",
            "data/sad/depositphotos_4584891-stock-photo-sad-man-in-a-empty.jpg not an image\n",
            "data/sad/sad-man-260nw-82004164.jpg not an image\n",
            "data/happy/traitshappypeople.jpg not an image\n",
            "data/happy/multiracial-friends-group-having-fun-260nw-2447663665.jpg not an image\n",
            "data/happy/-woman-looking-at-camera-with-crossed-arms-happy-girl-standing-in-1865153395.jpg not an image\n",
            "data/happy/220px-Shiny_Happy_People_Duggar_Family_Secrets_poster.jpg not an image\n",
            "data/happy/smiling-woman_W6GFOSFAXA.jpg not an image\n",
            "data/happy/smiling-young-african-american-woman-260nw-2290057229.jpg not an image\n",
            "data/happy/depositphotos_391577690-stock-photo-cheerful-woman-outstretched-hands-sitting.jpg not an image\n",
            "data/happy/7-Habits-of-Happy-People.png not an image\n",
            "data/happy/Happy20People.jpg not an image\n",
            "data/happy/guilherme-stecanella-375176-unsplash.jpg not an image\n"
          ]
        }
      ]
    },
    {
      "cell_type": "markdown",
      "source": [
        "## Loading the data"
      ],
      "metadata": {
        "id": "gJshYnHHpL8R"
      }
    },
    {
      "cell_type": "code",
      "source": [
        "import numpy as np\n",
        "from matplotlib import pyplot as plt"
      ],
      "metadata": {
        "id": "7-cFNEfTq2kK"
      },
      "execution_count": 11,
      "outputs": []
    },
    {
      "cell_type": "code",
      "source": [
        "dataset = tf.keras.utils.image_dataset_from_directory('data')"
      ],
      "metadata": {
        "colab": {
          "base_uri": "https://localhost:8080/"
        },
        "id": "2XIs02WgrOJI",
        "outputId": "8fa9d205-3254-4239-d1b6-53a98f5cfbc0"
      },
      "execution_count": 12,
      "outputs": [
        {
          "output_type": "stream",
          "name": "stdout",
          "text": [
            "Found 167 files belonging to 2 classes.\n"
          ]
        }
      ]
    },
    {
      "cell_type": "code",
      "source": [
        "# checkout an example\n",
        "for image_batch, label_batch in dataset.take(1):\n",
        "    print(image_batch.shape)\n",
        "    print(label_batch.numpy())"
      ],
      "metadata": {
        "colab": {
          "base_uri": "https://localhost:8080/"
        },
        "id": "6f2kHV15rl4m",
        "outputId": "98644465-22dd-4350-cce3-81b192940b72"
      },
      "execution_count": 13,
      "outputs": [
        {
          "output_type": "stream",
          "name": "stdout",
          "text": [
            "(32, 256, 256, 3)\n",
            "[0 1 0 0 1 1 0 1 0 0 0 1 1 1 0 0 0 0 1 0 0 1 0 1 1 0 0 0 1 1 0 1]\n"
          ]
        }
      ]
    },
    {
      "cell_type": "code",
      "source": [
        "class_names = dataset.class_names\n",
        "class_names"
      ],
      "metadata": {
        "colab": {
          "base_uri": "https://localhost:8080/"
        },
        "id": "_tqM2xe2rttA",
        "outputId": "f75f9176-050e-4ae4-c286-c61cc93c6e2c"
      },
      "execution_count": 15,
      "outputs": [
        {
          "output_type": "execute_result",
          "data": {
            "text/plain": [
              "['happy', 'sad']"
            ]
          },
          "metadata": {},
          "execution_count": 15
        }
      ]
    },
    {
      "cell_type": "code",
      "source": [],
      "metadata": {
        "id": "L92jo-iJr5q5"
      },
      "execution_count": null,
      "outputs": []
    }
  ]
}